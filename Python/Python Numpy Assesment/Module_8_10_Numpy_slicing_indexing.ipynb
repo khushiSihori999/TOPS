{
  "nbformat": 4,
  "nbformat_minor": 0,
  "metadata": {
    "colab": {
      "provenance": []
    },
    "kernelspec": {
      "name": "python3",
      "display_name": "Python 3"
    },
    "language_info": {
      "name": "python"
    }
  },
  "cells": [
    {
      "cell_type": "code",
      "execution_count": 1,
      "metadata": {
        "colab": {
          "base_uri": "https://localhost:8080/"
        },
        "id": "6RpYlaqYpCYy",
        "outputId": "d6da85e4-f4b3-4f3d-c744-44c106084582"
      },
      "outputs": [
        {
          "output_type": "stream",
          "name": "stdout",
          "text": [
            "1\n",
            "3\n"
          ]
        }
      ],
      "source": [
        "import numpy as np\n",
        "\n",
        "arr = np.array([1, 2, 3, 4, 5])\n",
        "print(arr[0])  # Output: 1\n",
        "print(arr[2])  # Output: 3"
      ]
    },
    {
      "cell_type": "code",
      "source": [
        "import numpy as np\n",
        "\n",
        "arr = np.array([1, 2, 3, 4, 5])\n",
        "print(arr[1:4])  # Output: [2 3 4]\n",
        "print(arr[:3])   # Output: [1 2 3]\n",
        "print(arr[::2])  # Output: [1 3 5]"
      ],
      "metadata": {
        "colab": {
          "base_uri": "https://localhost:8080/"
        },
        "id": "s3l7TbfopM1c",
        "outputId": "39ce77c9-aa91-4c10-8dd8-345a14a848db"
      },
      "execution_count": 2,
      "outputs": [
        {
          "output_type": "stream",
          "name": "stdout",
          "text": [
            "[2 3 4]\n",
            "[1 2 3]\n",
            "[1 3 5]\n"
          ]
        }
      ]
    }
  ]
}