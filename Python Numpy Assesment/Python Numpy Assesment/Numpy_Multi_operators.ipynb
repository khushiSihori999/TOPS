{
  "nbformat": 4,
  "nbformat_minor": 0,
  "metadata": {
    "colab": {
      "provenance": []
    },
    "kernelspec": {
      "name": "python3",
      "display_name": "Python 3"
    },
    "language_info": {
      "name": "python"
    }
  },
  "cells": [
    {
      "cell_type": "code",
      "execution_count": null,
      "metadata": {
        "id": "iH4cAGQmn8TK"
      },
      "outputs": [],
      "source": [
        "import numpy as np\n",
        "\n",
        "# Defining both the matrices\n",
        "a = np.array([5, 72, 13, 100])\n",
        "b = np.array([2, 5, 10, 30])\n",
        "\n",
        "# Performing multiplication using arithmetic operator\n",
        "mul_ans = a*b\n",
        "print(mul_ans)\n",
        "\n",
        "# Performing multiplication using numpy function\n",
        "mul_ans = np.multiply(a, b)\n",
        "print(mul_ans)\n"
      ]
    }
  ]
}