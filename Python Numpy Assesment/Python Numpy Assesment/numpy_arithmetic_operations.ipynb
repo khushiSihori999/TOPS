{
  "nbformat": 4,
  "nbformat_minor": 0,
  "metadata": {
    "colab": {
      "provenance": []
    },
    "kernelspec": {
      "name": "python3",
      "display_name": "Python 3"
    },
    "language_info": {
      "name": "python"
    }
  },
  "cells": [
    {
      "cell_type": "code",
      "execution_count": null,
      "metadata": {
        "id": "xtrPVuKloRnS"
      },
      "outputs": [],
      "source": [
        "import numpy as np\n",
        "\n",
        "# Defining both the matrices\n",
        "a = np.array([5, 72, 13, 100])\n",
        "b = np.array([2, 5, 10, 30])\n",
        "\n",
        "# Performing addition using arithmetic operator\n",
        "add_ans = a+b\n",
        "print(add_ans)\n",
        "\n",
        "# Performing addition using numpy function\n",
        "add_ans = np.add(a, b)\n",
        "print(add_ans)\n",
        "\n",
        "# this would work\n",
        "c = np.array([1, 2, 3, 4])\n",
        "add_ans = a+b+c\n",
        "print(add_ans)\n",
        "\n",
        "# but here NumPy only considers the first two arrays (a and b) and ignores the third one (c).\n",
        "add_ans = np.add(a, b, c)\n",
        "print(add_ans)"
      ]
    }
  ]
}