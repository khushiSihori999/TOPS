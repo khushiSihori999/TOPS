{
  "nbformat": 4,
  "nbformat_minor": 0,
  "metadata": {
    "colab": {
      "provenance": []
    },
    "kernelspec": {
      "name": "python3",
      "display_name": "Python 3"
    },
    "language_info": {
      "name": "python"
    }
  },
  "cells": [
    {
      "cell_type": "code",
      "execution_count": null,
      "metadata": {
        "id": "gKoVCFezogGx"
      },
      "outputs": [],
      "source": [
        "import numpy as np\n",
        "a = np.arange(12).reshape(3, 4)\n",
        "print(a)\n",
        "# [[ 0  1  2  3]\n",
        "#  [ 4  5  6  7]\n",
        "#  [ 8  9 10 11]]\n",
        "\n",
        "print(np.ravel(a))\n",
        "# [ 0  1  2  3  4  5  6  7  8  9 10 11]\n",
        "\n",
        "print(type(np.ravel(a)))\n",
        "# <class 'numpy.ndarray'>"
      ]
    }
  ]
}